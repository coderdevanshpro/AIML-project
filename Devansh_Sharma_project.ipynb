{
  "nbformat": 4,
  "nbformat_minor": 0,
  "metadata": {
    "colab": {
      "provenance": [],
      "authorship_tag": "ABX9TyPS3fykDcZ/PlJzaitVUgTK",
      "include_colab_link": true
    },
    "kernelspec": {
      "name": "python3",
      "display_name": "Python 3"
    },
    "language_info": {
      "name": "python"
    }
  },
  "cells": [
    {
      "cell_type": "markdown",
      "metadata": {
        "id": "view-in-github",
        "colab_type": "text"
      },
      "source": [
        "<a href=\"https://colab.research.google.com/github/coderdevanshpro/AIML-project/blob/main/Devansh_Sharma_project.ipynb\" target=\"_parent\"><img src=\"https://colab.research.google.com/assets/colab-badge.svg\" alt=\"Open In Colab\"/></a>"
      ]
    },
    {
      "cell_type": "code",
      "execution_count": null,
      "metadata": {
        "id": "Sf0Uo96k_QCe"
      },
      "outputs": [],
      "source": [
        "import numpy as np\n",
        "import matplotlib.pyplot as plt"
      ]
    },
    {
      "cell_type": "code",
      "source": [
        "from sklearn.linear_model import LinearRegression\n",
        "\n",
        "# Sample data\n",
        "x = np.array([[1], [2], [3], [4], [5]])\n",
        "y = np.array([2, 4, 6, 8, 10])\n",
        "\n",
        "# Create and train model\n",
        "model = LinearRegression()\n",
        "model.fit(x, y)\n",
        "\n",
        "# Predict\n",
        "y_pred = model.predict([[6]])\n",
        "print(\"Prediction for x=6:\", y_pred)\n"
      ],
      "metadata": {
        "colab": {
          "base_uri": "https://localhost:8080/"
        },
        "id": "7lhymrLB_4wY",
        "outputId": "6b063b07-a1e7-4051-c54e-f5ef7eb97d85"
      },
      "execution_count": null,
      "outputs": [
        {
          "output_type": "stream",
          "name": "stdout",
          "text": [
            "Prediction for x=6: [12.]\n"
          ]
        }
      ]
    },
    {
      "cell_type": "code",
      "source": [
        "pip install rembg"
      ],
      "metadata": {
        "colab": {
          "base_uri": "https://localhost:8080/"
        },
        "id": "hspv77QGC6Rz",
        "outputId": "4c623c48-f63c-41f9-e42a-aac9072227b9"
      },
      "execution_count": 1,
      "outputs": [
        {
          "output_type": "stream",
          "name": "stdout",
          "text": [
            "Collecting rembg\n",
            "  Downloading rembg-2.0.67-py3-none-any.whl.metadata (21 kB)\n",
            "Requirement already satisfied: jsonschema in /usr/local/lib/python3.11/dist-packages (from rembg) (4.24.0)\n",
            "Requirement already satisfied: numpy in /usr/local/lib/python3.11/dist-packages (from rembg) (2.0.2)\n",
            "Requirement already satisfied: opencv-python-headless in /usr/local/lib/python3.11/dist-packages (from rembg) (4.12.0.88)\n",
            "Requirement already satisfied: pillow in /usr/local/lib/python3.11/dist-packages (from rembg) (11.2.1)\n",
            "Requirement already satisfied: pooch in /usr/local/lib/python3.11/dist-packages (from rembg) (1.8.2)\n",
            "Collecting pymatting (from rembg)\n",
            "  Downloading pymatting-1.1.14-py3-none-any.whl.metadata (7.7 kB)\n",
            "Requirement already satisfied: scikit-image in /usr/local/lib/python3.11/dist-packages (from rembg) (0.25.2)\n",
            "Requirement already satisfied: scipy in /usr/local/lib/python3.11/dist-packages (from rembg) (1.15.3)\n",
            "Requirement already satisfied: tqdm in /usr/local/lib/python3.11/dist-packages (from rembg) (4.67.1)\n",
            "Requirement already satisfied: attrs>=22.2.0 in /usr/local/lib/python3.11/dist-packages (from jsonschema->rembg) (25.3.0)\n",
            "Requirement already satisfied: jsonschema-specifications>=2023.03.6 in /usr/local/lib/python3.11/dist-packages (from jsonschema->rembg) (2025.4.1)\n",
            "Requirement already satisfied: referencing>=0.28.4 in /usr/local/lib/python3.11/dist-packages (from jsonschema->rembg) (0.36.2)\n",
            "Requirement already satisfied: rpds-py>=0.7.1 in /usr/local/lib/python3.11/dist-packages (from jsonschema->rembg) (0.26.0)\n",
            "Requirement already satisfied: platformdirs>=2.5.0 in /usr/local/lib/python3.11/dist-packages (from pooch->rembg) (4.3.8)\n",
            "Requirement already satisfied: packaging>=20.0 in /usr/local/lib/python3.11/dist-packages (from pooch->rembg) (25.0)\n",
            "Requirement already satisfied: requests>=2.19.0 in /usr/local/lib/python3.11/dist-packages (from pooch->rembg) (2.32.3)\n",
            "Requirement already satisfied: numba!=0.49.0 in /usr/local/lib/python3.11/dist-packages (from pymatting->rembg) (0.60.0)\n",
            "Requirement already satisfied: networkx>=3.0 in /usr/local/lib/python3.11/dist-packages (from scikit-image->rembg) (3.5)\n",
            "Requirement already satisfied: imageio!=2.35.0,>=2.33 in /usr/local/lib/python3.11/dist-packages (from scikit-image->rembg) (2.37.0)\n",
            "Requirement already satisfied: tifffile>=2022.8.12 in /usr/local/lib/python3.11/dist-packages (from scikit-image->rembg) (2025.6.11)\n",
            "Requirement already satisfied: lazy-loader>=0.4 in /usr/local/lib/python3.11/dist-packages (from scikit-image->rembg) (0.4)\n",
            "Requirement already satisfied: llvmlite<0.44,>=0.43.0dev0 in /usr/local/lib/python3.11/dist-packages (from numba!=0.49.0->pymatting->rembg) (0.43.0)\n",
            "Requirement already satisfied: typing-extensions>=4.4.0 in /usr/local/lib/python3.11/dist-packages (from referencing>=0.28.4->jsonschema->rembg) (4.14.1)\n",
            "Requirement already satisfied: charset-normalizer<4,>=2 in /usr/local/lib/python3.11/dist-packages (from requests>=2.19.0->pooch->rembg) (3.4.2)\n",
            "Requirement already satisfied: idna<4,>=2.5 in /usr/local/lib/python3.11/dist-packages (from requests>=2.19.0->pooch->rembg) (3.10)\n",
            "Requirement already satisfied: urllib3<3,>=1.21.1 in /usr/local/lib/python3.11/dist-packages (from requests>=2.19.0->pooch->rembg) (2.4.0)\n",
            "Requirement already satisfied: certifi>=2017.4.17 in /usr/local/lib/python3.11/dist-packages (from requests>=2.19.0->pooch->rembg) (2025.7.14)\n",
            "Downloading rembg-2.0.67-py3-none-any.whl (44 kB)\n",
            "\u001b[2K   \u001b[90m━━━━━━━━━━━━━━━━━━━━━━━━━━━━━━━━━━━━━━━━\u001b[0m \u001b[32m44.1/44.1 kB\u001b[0m \u001b[31m2.0 MB/s\u001b[0m eta \u001b[36m0:00:00\u001b[0m\n",
            "\u001b[?25hDownloading pymatting-1.1.14-py3-none-any.whl (54 kB)\n",
            "\u001b[2K   \u001b[90m━━━━━━━━━━━━━━━━━━━━━━━━━━━━━━━━━━━━━━━━\u001b[0m \u001b[32m54.7/54.7 kB\u001b[0m \u001b[31m4.3 MB/s\u001b[0m eta \u001b[36m0:00:00\u001b[0m\n",
            "\u001b[?25hInstalling collected packages: pymatting, rembg\n",
            "Successfully installed pymatting-1.1.14 rembg-2.0.67\n"
          ]
        }
      ]
    },
    {
      "cell_type": "code",
      "source": [
        "pip install onnxruntime"
      ],
      "metadata": {
        "colab": {
          "base_uri": "https://localhost:8080/"
        },
        "id": "rlNeY_j5Epe_",
        "outputId": "7aabc2b5-36fd-4ad5-bb59-51db28eff774"
      },
      "execution_count": 2,
      "outputs": [
        {
          "output_type": "stream",
          "name": "stdout",
          "text": [
            "Collecting onnxruntime\n",
            "  Downloading onnxruntime-1.22.1-cp311-cp311-manylinux_2_27_x86_64.manylinux_2_28_x86_64.whl.metadata (4.6 kB)\n",
            "Collecting coloredlogs (from onnxruntime)\n",
            "  Downloading coloredlogs-15.0.1-py2.py3-none-any.whl.metadata (12 kB)\n",
            "Requirement already satisfied: flatbuffers in /usr/local/lib/python3.11/dist-packages (from onnxruntime) (25.2.10)\n",
            "Requirement already satisfied: numpy>=1.21.6 in /usr/local/lib/python3.11/dist-packages (from onnxruntime) (2.0.2)\n",
            "Requirement already satisfied: packaging in /usr/local/lib/python3.11/dist-packages (from onnxruntime) (25.0)\n",
            "Requirement already satisfied: protobuf in /usr/local/lib/python3.11/dist-packages (from onnxruntime) (5.29.5)\n",
            "Requirement already satisfied: sympy in /usr/local/lib/python3.11/dist-packages (from onnxruntime) (1.13.1)\n",
            "Collecting humanfriendly>=9.1 (from coloredlogs->onnxruntime)\n",
            "  Downloading humanfriendly-10.0-py2.py3-none-any.whl.metadata (9.2 kB)\n",
            "Requirement already satisfied: mpmath<1.4,>=1.1.0 in /usr/local/lib/python3.11/dist-packages (from sympy->onnxruntime) (1.3.0)\n",
            "Downloading onnxruntime-1.22.1-cp311-cp311-manylinux_2_27_x86_64.manylinux_2_28_x86_64.whl (16.5 MB)\n",
            "\u001b[2K   \u001b[90m━━━━━━━━━━━━━━━━━━━━━━━━━━━━━━━━━━━━━━━━\u001b[0m \u001b[32m16.5/16.5 MB\u001b[0m \u001b[31m95.6 MB/s\u001b[0m eta \u001b[36m0:00:00\u001b[0m\n",
            "\u001b[?25hDownloading coloredlogs-15.0.1-py2.py3-none-any.whl (46 kB)\n",
            "\u001b[2K   \u001b[90m━━━━━━━━━━━━━━━━━━━━━━━━━━━━━━━━━━━━━━━━\u001b[0m \u001b[32m46.0/46.0 kB\u001b[0m \u001b[31m3.3 MB/s\u001b[0m eta \u001b[36m0:00:00\u001b[0m\n",
            "\u001b[?25hDownloading humanfriendly-10.0-py2.py3-none-any.whl (86 kB)\n",
            "\u001b[2K   \u001b[90m━━━━━━━━━━━━━━━━━━━━━━━━━━━━━━━━━━━━━━━━\u001b[0m \u001b[32m86.8/86.8 kB\u001b[0m \u001b[31m7.3 MB/s\u001b[0m eta \u001b[36m0:00:00\u001b[0m\n",
            "\u001b[?25hInstalling collected packages: humanfriendly, coloredlogs, onnxruntime\n",
            "Successfully installed coloredlogs-15.0.1 humanfriendly-10.0 onnxruntime-1.22.1\n"
          ]
        }
      ]
    },
    {
      "cell_type": "code",
      "source": [
        "from rembg import remove\n",
        "from PIL import Image\n",
        "\n",
        "# Load image\n",
        "input_path = \"person.jpeg\"\n",
        "output_path = \"person_no_bg.png\"\n",
        "\n",
        "# Remove background\n",
        "input_image = Image.open(input_path)\n",
        "output_image = remove(input_image)\n",
        "output_image.save(output_path)\n"
      ],
      "metadata": {
        "colab": {
          "base_uri": "https://localhost:8080/"
        },
        "id": "EDV5x5ewSYJh",
        "outputId": "a547f175-3e29-4447-861d-632db937db03"
      },
      "execution_count": 3,
      "outputs": [
        {
          "output_type": "stream",
          "name": "stderr",
          "text": [
            "Downloading data from 'https://github.com/danielgatis/rembg/releases/download/v0.0.0/u2net.onnx' to file '/root/.u2net/u2net.onnx'.\n",
            "100%|████████████████████████████████████████| 176M/176M [00:00<00:00, 178GB/s]\n"
          ]
        }
      ]
    },
    {
      "cell_type": "code",
      "source": [
        "import cv2\n",
        "import numpy as np\n",
        "\n",
        "# Load background and person\n",
        "background = cv2.imread(\"scenery.jpg\")\n",
        "person = cv2.imread(\"person_no_bg.png\", cv2.IMREAD_UNCHANGED)\n",
        "\n",
        "# Get background size\n",
        "bh, bw = background.shape[:2]\n",
        "\n",
        "# User input for scale\n",
        "scale_percent = int(input(\"Enter the % of background height the person should cover: \"))\n",
        "target_height = int(bh * (scale_percent / 100.0))\n",
        "\n",
        "# Resize person\n",
        "scale_factor = target_height / person.shape[0]\n",
        "person = cv2.resize(person, (int(person.shape[1] * scale_factor), target_height))\n",
        "\n",
        "# Get person dimensions\n",
        "ph, pw = person.shape[:2]\n",
        "\n",
        "# Position person (bottom-center)\n",
        "x_offset = (bw - pw) // 2\n",
        "y_offset = bh - ph - 10\n",
        "\n",
        "# Extract alpha channel\n",
        "if person.shape[2] == 4:\n",
        "    alpha = person[:, :, 3] / 255.0\n",
        "    alpha_inv = 1 - alpha\n",
        "    person_rgb = person[:, :, :3]\n",
        "else:\n",
        "    alpha = np.ones((ph, pw))\n",
        "    alpha_inv = 1 - alpha\n",
        "    person_rgb = person\n",
        "\n",
        "# Blend person into background\n",
        "roi = background[y_offset:y_offset+ph, x_offset:x_offset+pw]\n",
        "for c in range(3):\n",
        "    roi[:, :, c] = alpha * person_rgb[:, :, c] + alpha_inv * roi[:, :, c]\n",
        "background[y_offset:y_offset+ph, x_offset:x_offset+pw] = roi\n",
        "\n",
        "cv2.imwrite(\"final_output.png\", background)\n",
        "print(\"Saved final_output.png\")\n"
      ],
      "metadata": {
        "id": "z43A6O-8Kghp",
        "outputId": "f38b3627-bcea-4424-aa61-1ffb8b9730fc",
        "colab": {
          "base_uri": "https://localhost:8080/"
        }
      },
      "execution_count": 4,
      "outputs": [
        {
          "output_type": "stream",
          "name": "stdout",
          "text": [
            "Enter the % of background height the person should cover: 90\n",
            "Saved final_output.png\n"
          ]
        }
      ]
    },
    {
      "cell_type": "code",
      "source": [
        "# ======================================================\n",
        "# INSTALL REQUIRED LIBRARIES\n",
        "# ======================================================\n",
        "!pip install --quiet mediapipe opencv-python-headless pillow numpy\n",
        "\n",
        "# ======================================================\n",
        "# IMPORTS\n",
        "# ======================================================\n",
        "import cv2\n",
        "import mediapipe as mp\n",
        "import numpy as np\n",
        "from PIL import Image, ImageFilter, ImageEnhance\n",
        "import os\n",
        "\n",
        "# ======================================================\n",
        "# FUNCTION TO ADD SHADOW\n",
        "# ======================================================\n",
        "def add_shadow_to_person(\n",
        "    image_path,\n",
        "    output_path=\"image_with_shadow.png\",\n",
        "    angle_deg=30,       # direction of shadow (0=right, 90=down)\n",
        "    shadow_distance=40, # distance from person\n",
        "    shadow_opacity=100, # 0-255 alpha\n",
        "    blur_radius=15      # softness of shadow edges\n",
        "):\n",
        "    # Load image\n",
        "    img_bgr = cv2.imread(image_path)\n",
        "    if img_bgr is None:\n",
        "        raise FileNotFoundError(f\"Could not load image: {image_path}\")\n",
        "    h, w = img_bgr.shape[:2]\n",
        "\n",
        "    # PERSON SEGMENTATION\n",
        "    mp_selfie = mp.solutions.selfie_segmentation.SelfieSegmentation(model_selection=1)\n",
        "    img_rgb = cv2.cvtColor(img_bgr, cv2.COLOR_BGR2RGB)\n",
        "    result = mp_selfie.process(img_rgb)\n",
        "    person_mask = (result.segmentation_mask > 0.5).astype(np.uint8) * 255\n",
        "\n",
        "    # Convert BGR image to RGBA\n",
        "    img_rgba = cv2.cvtColor(img_bgr, cv2.COLOR_BGR2BGRA)\n",
        "    img_rgba[:, :, 3] = person_mask  # alpha channel = person mask\n",
        "\n",
        "    # Convert to PIL for easier shadow processing\n",
        "    person_pil = Image.fromarray(cv2.cvtColor(img_rgba, cv2.COLOR_BGRA2RGBA))\n",
        "\n",
        "    # Create shadow mask from alpha\n",
        "    alpha = person_pil.split()[3]\n",
        "\n",
        "    # Create shadow layer\n",
        "    shadow = Image.new(\"RGBA\", person_pil.size, (0, 0, 0, 0))\n",
        "    shadow.paste((0, 0, 0, shadow_opacity), mask=alpha)\n",
        "    shadow = shadow.filter(ImageFilter.GaussianBlur(blur_radius))\n",
        "\n",
        "    # Shift shadow\n",
        "    dx = int(np.cos(np.radians(angle_deg)) * shadow_distance)\n",
        "    dy = int(np.sin(np.radians(angle_deg)) * shadow_distance)\n",
        "    shadow = shadow.transform(\n",
        "        person_pil.size, Image.AFFINE, (1, 0, dx, 0, 1, dy), resample=Image.BICUBIC\n",
        "    )\n",
        "\n",
        "    # Composite shadow with original image\n",
        "    base_img = Image.open(image_path).convert(\"RGBA\")\n",
        "    final_img = Image.alpha_composite(base_img, shadow)\n",
        "    final_img = Image.alpha_composite(final_img, person_pil)\n",
        "\n",
        "    # Save\n",
        "    final_img.save(output_path)\n",
        "    print(f\"Saved: {output_path}\")\n",
        "    return output_path\n",
        "\n",
        "# ======================================================\n",
        "# USAGE EXAMPLE\n",
        "# ======================================================\n",
        "input_image = \"final_output.png\"  # your image path\n",
        "output_image = \"image_with_shadow.png\"\n",
        "\n"
      ],
      "metadata": {
        "id": "EAZmqBLTKiP9",
        "colab": {
          "base_uri": "https://localhost:8080/"
        },
        "outputId": "be3acd12-a254-45e1-db88-9e3f7519f59c"
      },
      "execution_count": 5,
      "outputs": [
        {
          "output_type": "stream",
          "name": "stdout",
          "text": [
            "\u001b[2K     \u001b[90m━━━━━━━━━━━━━━━━━━━━━━━━━━━━━━━━━━━━━━━━\u001b[0m \u001b[32m61.0/61.0 kB\u001b[0m \u001b[31m2.2 MB/s\u001b[0m eta \u001b[36m0:00:00\u001b[0m\n",
            "\u001b[2K   \u001b[90m━━━━━━━━━━━━━━━━━━━━━━━━━━━━━━━━━━━━━━━━\u001b[0m \u001b[32m35.6/35.6 MB\u001b[0m \u001b[31m24.0 MB/s\u001b[0m eta \u001b[36m0:00:00\u001b[0m\n",
            "\u001b[2K   \u001b[90m━━━━━━━━━━━━━━━━━━━━━━━━━━━━━━━━━━━━━━━━\u001b[0m \u001b[32m50.0/50.0 MB\u001b[0m \u001b[31m7.4 MB/s\u001b[0m eta \u001b[36m0:00:00\u001b[0m\n",
            "\u001b[2K   \u001b[90m━━━━━━━━━━━━━━━━━━━━━━━━━━━━━━━━━━━━━━━━\u001b[0m \u001b[32m18.3/18.3 MB\u001b[0m \u001b[31m47.2 MB/s\u001b[0m eta \u001b[36m0:00:00\u001b[0m\n",
            "\u001b[2K   \u001b[90m━━━━━━━━━━━━━━━━━━━━━━━━━━━━━━━━━━━━━━━━\u001b[0m \u001b[32m294.9/294.9 kB\u001b[0m \u001b[31m18.9 MB/s\u001b[0m eta \u001b[36m0:00:00\u001b[0m\n",
            "\u001b[?25h\u001b[31mERROR: pip's dependency resolver does not currently take into account all the packages that are installed. This behaviour is the source of the following dependency conflicts.\n",
            "thinc 8.3.6 requires numpy<3.0.0,>=2.0.0, but you have numpy 1.26.4 which is incompatible.\n",
            "grpcio-status 1.71.2 requires protobuf<6.0dev,>=5.26.1, but you have protobuf 4.25.8 which is incompatible.\n",
            "ydf 0.13.0 requires protobuf<7.0.0,>=5.29.1, but you have protobuf 4.25.8 which is incompatible.\u001b[0m\u001b[31m\n",
            "\u001b[0m"
          ]
        }
      ]
    },
    {
      "cell_type": "code",
      "source": [
        "\n",
        "add_shadow_to_person(\n",
        "    input_image,\n",
        "    output_image,\n",
        "    angle_deg=200,       # 200° = left-down direction\n",
        "    shadow_distance=35,  # distance of shadow\n",
        "    shadow_opacity=150,  # darkness\n",
        "    blur_radius=1       # softness\n",
        ")"
      ],
      "metadata": {
        "colab": {
          "base_uri": "https://localhost:8080/",
          "height": 53
        },
        "id": "nBwJ9FPDh1zr",
        "outputId": "5e80348f-c9ca-4323-8f36-70573c4881d1"
      },
      "execution_count": 6,
      "outputs": [
        {
          "output_type": "stream",
          "name": "stdout",
          "text": [
            "Saved: image_with_shadow.png\n"
          ]
        },
        {
          "output_type": "execute_result",
          "data": {
            "text/plain": [
              "'image_with_shadow.png'"
            ],
            "application/vnd.google.colaboratory.intrinsic+json": {
              "type": "string"
            }
          },
          "metadata": {},
          "execution_count": 6
        }
      ]
    },
    {
      "cell_type": "code",
      "source": [],
      "metadata": {
        "id": "9t6n_OstuINO"
      },
      "execution_count": null,
      "outputs": []
    }
  ]
}